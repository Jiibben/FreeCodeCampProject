{
 "cells": [
  {
   "cell_type": "code",
   "execution_count": 1,
   "id": "09b3fa8a",
   "metadata": {},
   "outputs": [],
   "source": [
    "import numpy as np"
   ]
  },
  {
   "cell_type": "markdown",
   "id": "d5439aef",
   "metadata": {},
   "source": [
    "# Numpy arrays"
   ]
  },
  {
   "cell_type": "markdown",
   "id": "eda2144c",
   "metadata": {},
   "source": [
    "## multi accesing, shape etc"
   ]
  },
  {
   "cell_type": "code",
   "execution_count": 2,
   "id": "c59a5889",
   "metadata": {},
   "outputs": [
    {
     "name": "stdout",
     "output_type": "stream",
     "text": [
      "[3.   0.23 5.  ]\n"
     ]
    }
   ],
   "source": [
    "arr = np.array([[1,2,3],[4,54,.23],[13,45,5]])\n",
    "print(arr[:,2]) #outputs third element of every list"
   ]
  },
  {
   "cell_type": "code",
   "execution_count": 41,
   "id": "d84e1fe3",
   "metadata": {},
   "outputs": [
    {
     "name": "stdout",
     "output_type": "stream",
     "text": [
      "(2, 3)\n",
      "[0 1 2]\n"
     ]
    }
   ],
   "source": [
    "arr = np.array([[1,2,3],[1,2,3]])\n",
    "\n",
    "print(arr.shape) # shape of matrix\n",
    "\n",
    "\n",
    "arr[0] = np.array([3,2,3])\n",
    "\n",
    "arr[1] = 12 # change all row to 12\n",
    "\n",
    "test = np.arange(3)\n",
    "print(test)\n"
   ]
  },
  {
   "cell_type": "markdown",
   "id": "fd5e3c3d",
   "metadata": {},
   "source": [
    "## summary statistics"
   ]
  },
  {
   "cell_type": "code",
   "execution_count": 18,
   "id": "59997ae0",
   "metadata": {},
   "outputs": [
    {
     "name": "stdout",
     "output_type": "stream",
     "text": [
      "13\n",
      "[7 6]\n"
     ]
    }
   ],
   "source": [
    "\n",
    "secArr = np.array([[1,2,4],[1,2,3]])\n",
    "print(secArr.sum())\n",
    "\n",
    "secArr.mean()\n",
    "secArr.std() # std deviation\n",
    "\n",
    "\n",
    "#get different axis \n",
    "print(secArr.sum(axis=1))"
   ]
  },
  {
   "cell_type": "markdown",
   "id": "db4ce3da",
   "metadata": {},
   "source": [
    "## Broadcasting and vectorized operations"
   ]
  },
  {
   "cell_type": "code",
   "execution_count": 37,
   "id": "72cf985a",
   "metadata": {},
   "outputs": [
    {
     "name": "stdout",
     "output_type": "stream",
     "text": [
      "[[10. 20. 30.]\n",
      " [40. 50. 60.]\n",
      " [70. 80. 90.]]\n",
      "[[4 0]\n",
      " [2 0]]\n"
     ]
    }
   ],
   "source": [
    "thirdArr = np.array([[1,2,3],[4,5,6], [7,8,9]],dtype=np.float64)\n",
    "# return new array with *10 on every elements\n",
    "print(thirdArr * 10)\n",
    "\n",
    "a1 = np.array([[1,0], [1,0]])\n",
    "a2 = np.array([[4,2],[2,3]])\n",
    "\n",
    "#multiplication between two matrice is not a matrix product \n",
    "# but apply the operation on each element\n",
    "print(a1 * a2)\n",
    "# didn't modify the array because of immutable nature of numpy\n",
    "\n"
   ]
  },
  {
   "cell_type": "markdown",
   "id": "2c741a3c",
   "metadata": {},
   "source": [
    "## Boolean arrays"
   ]
  },
  {
   "cell_type": "code",
   "execution_count": 56,
   "id": "c56149aa",
   "metadata": {},
   "outputs": [
    {
     "name": "stdout",
     "output_type": "stream",
     "text": [
      "[[False  True False]\n",
      " [ True False  True]\n",
      " [False  True  True]]\n",
      "[4 6 4]\n"
     ]
    }
   ],
   "source": [
    "fourthArr = np.array([[1,2,3], [4,5,6], [3,2,4]])\n",
    "\n",
    "print(fourthArr % 2 == 0)\n",
    "\n",
    "\n",
    "#select items with boolean array\n",
    "\n",
    "print(fourthArr[(fourthArr % 2 == 0) & (fourthArr > 2) ])\n"
   ]
  },
  {
   "cell_type": "markdown",
   "id": "ed6120d0",
   "metadata": {},
   "source": [
    "## Linear Algebra"
   ]
  },
  {
   "cell_type": "code",
   "execution_count": 61,
   "id": "afa1efb7",
   "metadata": {},
   "outputs": [
    {
     "name": "stdout",
     "output_type": "stream",
     "text": [
      "[[ 32  38  41]\n",
      " [ 74  89  98]\n",
      " [116 140 155]]\n"
     ]
    },
    {
     "data": {
      "text/plain": [
       "array([[1, 4, 7],\n",
       "       [2, 5, 8],\n",
       "       [3, 6, 9]])"
      ]
     },
     "execution_count": 61,
     "metadata": {},
     "output_type": "execute_result"
    }
   ],
   "source": [
    "A = np.array([[1,2,3], [4,5,6], [7,8,9]])\n",
    "\n",
    "B = np.array([[3,4,5], [4,5,6], [7,8,8]])\n",
    "\n",
    "\n",
    "# matrix dot product\n",
    "A.dot(B)\n",
    "print(A @ B)\n",
    "\n",
    "# transpose a matrix\n",
    "A.T\n",
    "\n"
   ]
  }
 ],
 "metadata": {
  "kernelspec": {
   "display_name": "Python 3 (ipykernel)",
   "language": "python",
   "name": "python3"
  },
  "language_info": {
   "codemirror_mode": {
    "name": "ipython",
    "version": 3
   },
   "file_extension": ".py",
   "mimetype": "text/x-python",
   "name": "python",
   "nbconvert_exporter": "python",
   "pygments_lexer": "ipython3",
   "version": "3.8.10"
  }
 },
 "nbformat": 4,
 "nbformat_minor": 5
}
