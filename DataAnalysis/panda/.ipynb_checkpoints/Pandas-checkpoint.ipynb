{
 "cells": [
  {
   "cell_type": "code",
   "execution_count": 2,
   "id": "ace7d41d",
   "metadata": {
    "scrolled": true
   },
   "outputs": [],
   "source": [
    "import pandas as pd\n",
    "import numpy as np"
   ]
  },
  {
   "cell_type": "markdown",
   "id": "c98f36f7",
   "metadata": {},
   "source": [
    "# basics"
   ]
  },
  {
   "cell_type": "code",
   "execution_count": 10,
   "id": "97f281f6",
   "metadata": {},
   "outputs": [
    {
     "name": "stdout",
     "output_type": "stream",
     "text": [
      "34.43\n"
     ]
    },
    {
     "data": {
      "text/plain": [
       "23.23"
      ]
     },
     "execution_count": 10,
     "metadata": {},
     "output_type": "execute_result"
    }
   ],
   "source": [
    "g7_pop = pd.Series([34.43, 23.23, 231.30, 1231.32, 1])\n",
    "\n",
    "# changing indexes\n",
    "g7_pop.index = [\"a\",\"b\", \"c\", \"d\",\"e\"]\n",
    "\n",
    "\n",
    "print(g7_pop[\"a\"]) # acces to value a \n",
    "# similar to a dict but ordered\n",
    "\n",
    "#other way to specify indexes\n",
    "certificates_earned = pd.Series(\n",
    "    [8, 2, 5, 6],\n",
    "    index=['Tom', 'Kris', 'Ahmad', 'Beau']\n",
    ")\n",
    "\n",
    "g7_pop.iloc[1]\n",
    "\n",
    "\n",
    "\n"
   ]
  },
  {
   "cell_type": "markdown",
   "id": "d6b15f06",
   "metadata": {},
   "source": [
    "## DataFrame"
   ]
  },
  {
   "cell_type": "code",
   "execution_count": 14,
   "id": "4d1c4d44",
   "metadata": {},
   "outputs": [
    {
     "name": "stdout",
     "output_type": "stream",
     "text": [
      "<bound method NDFrame.describe of               name  age\n",
      "Jack          jack   12\n",
      "Nathalie  nathalie   32>\n"
     ]
    }
   ],
   "source": [
    "df = pd.DataFrame({\"name\":[\"jack\", \"nathalie\"], \"age\":[12, 32]}, index=[\"Jack\", \"Nathalie\"])\n",
    "\n",
    "df.loc[\"Jack\", \"age\"]\n",
    "\n"
   ]
  }
 ],
 "metadata": {
  "kernelspec": {
   "display_name": "Python 3 (ipykernel)",
   "language": "python",
   "name": "python3"
  },
  "language_info": {
   "codemirror_mode": {
    "name": "ipython",
    "version": 3
   },
   "file_extension": ".py",
   "mimetype": "text/x-python",
   "name": "python",
   "nbconvert_exporter": "python",
   "pygments_lexer": "ipython3",
   "version": "3.8.10"
  }
 },
 "nbformat": 4,
 "nbformat_minor": 5
}
